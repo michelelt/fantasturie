{
 "cells": [
  {
   "cell_type": "code",
   "execution_count": 54,
   "metadata": {},
   "outputs": [],
   "source": [
    "import http.client\n",
    "import json\n"
   ]
  },
  {
   "cell_type": "code",
   "execution_count": 55,
   "metadata": {},
   "outputs": [],
   "source": [
    "'''codice della serie A'''\n",
    "connection = http.client.HTTPConnection('api.football-data.org')\n",
    "headers = { 'X-Auth-Token': 'c83c36d3832c4397941f7ab05a28fe42' }\n",
    "connection.request('GET', '/v2/competitions/', None, headers )\n",
    "response = json.loads(connection.getresponse().read().decode())"
   ]
  },
  {
   "cell_type": "code",
   "execution_count": 58,
   "metadata": {},
   "outputs": [
    {
     "name": "stdout",
     "output_type": "stream",
     "text": [
      "dict_keys(['count', 'filters', 'competitions'])\n",
      "SA\n"
     ]
    }
   ],
   "source": [
    "print(response.keys())\n",
    "\n",
    "for i in range(len(response['competitions'])):\n",
    "    ID=response['competitions'][i]['id']\n",
    "    code=response['competitions'][i]['code']\n",
    "    name=response['competitions'][i]['name']\n",
    "    if name == 'Serie A':print(code)\n",
    "#     print(ID, code, name, area)\n",
    "    "
   ]
  },
  {
   "cell_type": "code",
   "execution_count": 113,
   "metadata": {},
   "outputs": [],
   "source": [
    "'''Download all the club seasons'''\n",
    "connection = http.client.HTTPConnection('api.football-data.org')\n",
    "headers = { 'X-Auth-Token': 'c83c36d3832c4397941f7ab05a28fe42' }\n",
    "connection.request('GET', '/v2/competitions/SA/teams?season=2020', None, headers )\n",
    "response = json.loads(connection.getresponse().read().decode())\n",
    "\n",
    "headers = { 'X-Auth-Token': 'c83c36d3832c4397941f7ab05a28fe42' }\n",
    "connection.request('GET', '/v2/competitions/SA/teams?season=2018', None, headers )\n",
    "response2 = json.loads(connection.getresponse().read().decode())"
   ]
  },
  {
   "cell_type": "code",
   "execution_count": 115,
   "metadata": {},
   "outputs": [
    {
     "name": "stdout",
     "output_type": "stream",
     "text": [
      "dict_keys(['count', 'filters', 'competition', 'season', 'teams'])\n",
      "98 AC Milan\n",
      "99 ACF Fiorentina\n",
      "100 AS Roma\n",
      "102 Atalanta BC\n",
      "103 Bologna FC 1909\n",
      "104 Cagliari Calcio\n",
      "107 Genoa CFC\n",
      "108 FC Internazionale Milano\n",
      "109 Juventus FC\n",
      "110 SS Lazio\n",
      "112 Parma Calcio 1913\n",
      "113 SSC Napoli\n",
      "115 Udinese Calcio\n",
      "450 Hellas Verona FC\n",
      "471 US Sassuolo Calcio\n",
      "472 FC Crotone\n",
      "488 Spezia Calcio\n",
      "584 UC Sampdoria\n",
      "586 Torino FC\n",
      "1106 Benevento Calcio\n",
      "dict_keys(['count', 'filters', 'competition', 'season', 'teams'])\n",
      "98 AC Milan\n",
      "99 ACF Fiorentina\n",
      "100 AS Roma\n",
      "102 Atalanta BC\n",
      "103 Bologna FC 1909\n",
      "104 Cagliari Calcio\n",
      "107 Genoa CFC\n",
      "108 FC Internazionale Milano\n",
      "109 Juventus FC\n",
      "110 SS Lazio\n",
      "112 Parma Calcio 1913\n",
      "113 SSC Napoli\n",
      "115 Udinese Calcio\n",
      "449 Brescia Calcio\n",
      "450 Hellas Verona FC\n",
      "471 US Sassuolo Calcio\n",
      "584 UC Sampdoria\n",
      "586 Torino FC\n",
      "1107 SPAL 2013\n",
      "5890 US Lecce\n"
     ]
    }
   ],
   "source": [
    "print(response.keys())\n",
    "for team in response['teams']:\n",
    "    print(team['id'], team['name'])\n",
    "\n",
    "print(response2.keys())\n",
    "for team in response2['teams']:\n",
    "    print(team['id'], team['name'])"
   ]
  },
  {
   "cell_type": "code",
   "execution_count": 118,
   "metadata": {},
   "outputs": [],
   "source": [
    "'''giocatori del team'''\n",
    "connection = http.client.HTTPConnection('api.football-data.org')\n",
    "headers = { 'X-Auth-Token': 'c83c36d3832c4397941f7ab05a28fe42' }\n",
    "connection.request('GET', '/v2/teams/98/', None, headers )\n",
    "response = json.loads(connection.getresponse().read().decode())"
   ]
  },
  {
   "cell_type": "code",
   "execution_count": 123,
   "metadata": {},
   "outputs": [
    {
     "name": "stdout",
     "output_type": "stream",
     "text": [
      "dict_keys(['id', 'area', 'activeCompetitions', 'name', 'shortName', 'tla', 'crestUrl', 'address', 'phone', 'website', 'email', 'founded', 'clubColors', 'venue', 'squad', 'lastUpdated'])\n",
      "Gianluigi Donnarumma\n",
      "Antonio Donnarumma\n",
      "Pepe Reina\n",
      "Alessandro Plizzari\n",
      "Asmir Begović\n",
      "Ciprian Tătăruşanu\n",
      "Leonardo Moleri\n",
      "Simon Kjær\n",
      "Theo Hernández\n",
      "Léo Duarte\n",
      "Davide Calabria\n",
      "Alessio Romagnoli\n",
      "Andrea Conti\n",
      "Ricardo Rodriguez\n",
      "Mateo Musacchio\n",
      "Matteo Gabbia\n",
      "Diogo Dalot\n",
      "Pierre Kalulu\n",
      "Franck Kessié\n",
      "Giacomo Bonaventura\n",
      "Hakan Çalhanoğlu\n",
      "Lucas Biglia\n",
      "Rade Krunić\n",
      "Sandro Tonali\n",
      "Brahim Diaz\n",
      "Alexis Saelemaekers\n",
      "Daniel Maldini\n",
      "Ismael Bennacer\n",
      "Ante Rebić\n",
      "Zlatan Ibrahimovic\n",
      "Rafael Leão\n",
      "Samu Castillejo\n",
      "Jens Hauge\n",
      "Lorenzo Colombo\n",
      "Stefano Pioli\n"
     ]
    }
   ],
   "source": [
    "print(response.keys())\n",
    "for player in response['squad']:\n",
    "    print(player['name'])"
   ]
  },
  {
   "cell_type": "code",
   "execution_count": null,
   "metadata": {},
   "outputs": [],
   "source": []
  }
 ],
 "metadata": {
  "kernelspec": {
   "display_name": "Python 3",
   "language": "python",
   "name": "python3"
  },
  "language_info": {
   "codemirror_mode": {
    "name": "ipython",
    "version": 3
   },
   "file_extension": ".py",
   "mimetype": "text/x-python",
   "name": "python",
   "nbconvert_exporter": "python",
   "pygments_lexer": "ipython3",
   "version": "3.7.4"
  }
 },
 "nbformat": 4,
 "nbformat_minor": 2
}
