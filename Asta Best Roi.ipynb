{
 "cells": [
  {
   "cell_type": "code",
   "execution_count": 1,
   "metadata": {},
   "outputs": [],
   "source": [
    "from __future__ import print_function\n",
    "from ortools.linear_solver import pywraplp "
   ]
  },
  {
   "cell_type": "code",
   "execution_count": 2,
   "metadata": {},
   "outputs": [],
   "source": [
    "def create_data_model():\n",
    "    \"\"\"Create the data for the example.\"\"\"\n",
    "    data = {}\n",
    "    weights = [48, 30, 42, 36, 36, 48, 42, 42, 36, 24, 30, 30, 42, 36, 36]\n",
    "    values = [10, 30, 25, 50, 35, 30, 15, 40, 30, 35, 45, 10, 20, 30, 25]\n",
    "    data['weights'] = weights\n",
    "    data['values'] = values\n",
    "    data['items'] = list(range(len(weights)))\n",
    "    data['num_items'] = len(weights)\n",
    "    num_bins = 4\n",
    "    data['bins'] = list(range(num_bins))\n",
    "    data['bin_capacities'] = [4, 8, 8, 6] # ruoli\n",
    "    return data"
   ]
  },
  {
   "cell_type": "code",
   "execution_count": 3,
   "metadata": {},
   "outputs": [],
   "source": [
    "def main():\n",
    "    data = create_data_model()\n",
    "\n",
    "    # Create the mip solver with the CBC backend.\n",
    "    solver = pywraplp.Solver.CreateSolver('multiple_knapsack_mip', 'CBC')\n",
    "\n",
    "    # Variables\n",
    "    # x[i, j] = 1 if item i is packed in bin j.\n",
    "    x = {}\n",
    "    for i in data['items']:\n",
    "        for j in data['bins']:\n",
    "            x[(i, j)] = solver.IntVar(0, 1, 'x_%i_%i' % (i, j))\n",
    "\n",
    "    # Constraints\n",
    "    # Each item can be in at most one bin.\n",
    "    for i in data['items']:\n",
    "        solver.Add(sum(x[i, j] for j in data['bins']) <= 1)\n",
    "    # The amount packed in each bin cannot exceed its capacity.\n",
    "    for j in data['bins']:\n",
    "        solver.Add(\n",
    "            sum(x[(i, j)] * data['weights'][i]\n",
    "                for i in data['items']) <= data['bin_capacities'][j])\n",
    "\n",
    "    # Objective\n",
    "    objective = solver.Objective()\n",
    "\n",
    "    for i in data['items']:\n",
    "        for j in data['bins']:\n",
    "            objective.SetCoefficient(x[(i, j)], data['values'][i])\n",
    "    objective.SetMaximization()\n",
    "\n",
    "    status = solver.Solve()\n",
    "\n",
    "    if status == pywraplp.Solver.OPTIMAL:\n",
    "        print('Total packed value:', objective.Value())\n",
    "        total_weight = 0\n",
    "        for j in data['bins']:\n",
    "            bin_weight = 0\n",
    "            bin_value = 0\n",
    "            print('Bin ', j, '\\n')\n",
    "            for i in data['items']:\n",
    "                if x[i, j].solution_value() > 0:\n",
    "                    print('Item', i, '- weight:', data['weights'][i], ' value:',\n",
    "                          data['values'][i])\n",
    "                    bin_weight += data['weights'][i]\n",
    "                    bin_value += data['values'][i]\n",
    "            print('Packed bin weight:', bin_weight)\n",
    "            print('Packed bin value:', bin_value)\n",
    "            print()\n",
    "            total_weight += bin_weight\n",
    "        print('Total packed weight:', total_weight)\n",
    "    else:\n",
    "        print('The problem does not have an optimal solution.')\n"
   ]
  },
  {
   "cell_type": "code",
   "execution_count": 4,
   "metadata": {},
   "outputs": [
    {
     "name": "stdout",
     "output_type": "stream",
     "text": [
      "Total packed value: 395.0\n",
      "Bin  0 \n",
      "\n",
      "Item 3 - weight: 36  value: 50\n",
      "Item 5 - weight: 48  value: 30\n",
      "Packed bin weight: 84\n",
      "Packed bin value: 80\n",
      "\n",
      "Bin  1 \n",
      "\n",
      "Item 2 - weight: 42  value: 25\n",
      "Item 7 - weight: 42  value: 40\n",
      "Packed bin weight: 84\n",
      "Packed bin value: 65\n",
      "\n",
      "Bin  2 \n",
      "\n",
      "Item 12 - weight: 42  value: 20\n",
      "Item 13 - weight: 36  value: 30\n",
      "Packed bin weight: 78\n",
      "Packed bin value: 50\n",
      "\n",
      "Bin  3 \n",
      "\n",
      "Item 4 - weight: 36  value: 35\n",
      "Item 8 - weight: 36  value: 30\n",
      "Item 9 - weight: 24  value: 35\n",
      "Packed bin weight: 96\n",
      "Packed bin value: 100\n",
      "\n",
      "Bin  4 \n",
      "\n",
      "Item 1 - weight: 30  value: 30\n",
      "Item 10 - weight: 30  value: 45\n",
      "Item 14 - weight: 36  value: 25\n",
      "Packed bin weight: 96\n",
      "Packed bin value: 100\n",
      "\n",
      "Total packed weight: 438\n"
     ]
    }
   ],
   "source": [
    "if __name__ == '__main__':\n",
    "    main()"
   ]
  },
  {
   "cell_type": "code",
   "execution_count": null,
   "metadata": {},
   "outputs": [],
   "source": []
  }
 ],
 "metadata": {
  "kernelspec": {
   "display_name": "Python 3",
   "language": "python",
   "name": "python3"
  },
  "language_info": {
   "codemirror_mode": {
    "name": "ipython",
    "version": 3
   },
   "file_extension": ".py",
   "mimetype": "text/x-python",
   "name": "python",
   "nbconvert_exporter": "python",
   "pygments_lexer": "ipython3",
   "version": "3.7.4"
  }
 },
 "nbformat": 4,
 "nbformat_minor": 2
}
